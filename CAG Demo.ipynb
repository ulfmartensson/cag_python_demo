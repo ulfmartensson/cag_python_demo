{
 "cells": [
  {
   "cell_type": "markdown",
   "id": "8f5cc96c",
   "metadata": {},
   "source": [
    "# En liten demo för CAG DD - snabbare DW-analyser\n",
    "\n",
    "* Python - modernt språk, objektorienterat, stöd för det mesta (web, windows men framför allt dataanalys)\n",
    "* Länka in bibliotek som i C, C++, Java, C# etc\n",
    "* Pakethanterare PIP\n",
    "\n",
    "Litet script för att länka in http-bibliotek och anropa ett API"
   ]
  },
  {
   "cell_type": "code",
   "execution_count": null,
   "id": "ae278c5a",
   "metadata": {},
   "outputs": [],
   "source": [
    "import requests\n",
    "response = requests.get(\"http://api.open-notify.org/astros.json\")\n",
    "ans=response.text\n",
    "print(ans)"
   ]
  },
  {
   "cell_type": "markdown",
   "id": "61c17c9e",
   "metadata": {},
   "source": [
    "## Dataframe\n",
    "* Det finns lite olika dataframes, men mest använd är nog Pandas\n",
    "* En dataframe är en matris (ung. Excel) som man kan göra avancerade operationer på\n",
    "\n",
    "Liten demo av ovanstående api-response till en Pandas Dataframe"
   ]
  },
  {
   "cell_type": "code",
   "execution_count": null,
   "id": "9f709457",
   "metadata": {},
   "outputs": [],
   "source": [
    "import pandas as pd\n",
    "import requests\n",
    "import json\n",
    "response = requests.get(\"http://api.open-notify.org/astros.json\")\n",
    "ans=response.json()\n",
    "df = pd.DataFrame(ans['people'])\n",
    "print(df)\n",
    "print(df.describe())"
   ]
  },
  {
   "cell_type": "markdown",
   "id": "2a7ae23d",
   "metadata": {},
   "source": [
    "## Apache Kafka\n",
    "\n",
    "* Standardiserad integration\n",
    "* Kafka topics (ofta en s.k. payload, dvs en jättefil i json-format), men kan vara vad som helst\n",
    "* Demo av kafka producer och consumer\n",
    "* Starta Zookeeper: sh bin/zookeeper-server-start.sh config/zookeeper.properties\n",
    "* Starta Kafka Server: sh bin/kafka-server-start.sh config/server.properties\n",
    "* Öppna 2 terminalfönster i Desktop/Jupyter: python3 consumer.py och python3 producer.py\n",
    "* Jag kommer att köra detta i 2 olika terminalfönster för att kunna visa hur Kafka funkar"
   ]
  },
  {
   "cell_type": "code",
   "execution_count": null,
   "id": "e9b36195",
   "metadata": {},
   "outputs": [],
   "source": [
    "#Detta är consumer\n",
    "\n",
    "from kafka import KafkaConsumer\n",
    "TOPIC_NAME = 'grejer'\n",
    "consumer = KafkaConsumer(TOPIC_NAME)\n",
    "for message in consumer:\n",
    "    print(message)"
   ]
  },
  {
   "cell_type": "code",
   "execution_count": null,
   "id": "92c4400b",
   "metadata": {},
   "outputs": [],
   "source": [
    "#Detta är producer\n",
    "\n",
    "from kafka import KafkaConsumer\n",
    "TOPIC_NAME = 'grejer'\n",
    "KAFKA_SERVER = 'localhost:9092'\n",
    "producer = KafkaProducer(bootstrap_servers=KAFKA_SERVER)\n",
    "producer.send(TOPIC_NAME, b'Heja CAG')\n",
    "producer.flush()"
   ]
  },
  {
   "cell_type": "markdown",
   "id": "b159bd8f",
   "metadata": {},
   "source": [
    "## En annan dataframe - Vaex\n",
    "\n",
    "* Stora datamängder\n",
    "* Mycket snabb\n",
    "* Demo > 1 miljarder rader (1 miljon sekunder = 12 dygn, 1 miljard sekunder = 32 år)"
   ]
  },
  {
   "cell_type": "code",
   "execution_count": null,
   "id": "48b4739e",
   "metadata": {
    "scrolled": false
   },
   "outputs": [],
   "source": [
    "#Vaex demo\n",
    "import vaex \n",
    "import time\n",
    "starttime = time.time()\n",
    "df = vaex.open('s3://vaex/taxi/yellow_taxi_2009_2015_f32.hdf5?anon=true')\n",
    "endtime = time.time()\n",
    "print(f'number of rows: {df.shape[0]:,}')\n",
    "print(f'number of columns: {df.shape[1]}')\n",
    "print(endtime-starttime)\n",
    "print(\"\")\n",
    "print(df.tail())"
   ]
  },
  {
   "cell_type": "markdown",
   "id": "ed4c8536",
   "metadata": {},
   "source": [
    "## Machine Learning (AI)"
   ]
  },
  {
   "cell_type": "code",
   "execution_count": null,
   "id": "0dab9183",
   "metadata": {},
   "outputs": [],
   "source": [
    "#Demo beslutsträd train/test"
   ]
  },
  {
   "attachments": {},
   "cell_type": "markdown",
   "id": "17f378f6",
   "metadata": {},
   "source": [
    "## Slutsatser\n",
    "Om man kan plocka upp ett jättestort dataset, innan det har skrivits till disk i en dataframe och omedelbart göra en prediktion mha AI om hur data med bästa möjliga gissning ser ut om en timma, en dag, en vecka etc så är det tillämpbart på t.ex:\n",
    "* Penningtvättsförsök\n",
    "* Kapitalallokering\n",
    "* Resultatanalyser\n",
    "* Reklamkampanjer\n",
    "* Markandsanalyser (akitemarknaden, obligationsmarknaden etc)\n",
    "\n",
    "## Steg i AI\n",
    "* Importera data\n",
    "* Städa data från t.ex. dubbletter, null-värden mm\n",
    "* Dela upp den data vi har kvar i train/test\n",
    "* Skapa en modell (här finns många kodpaket, t.ex. scikit-learn)\n",
    "* Träna modellen med den data vi avsatte till träning i steg 3\n",
    "* Spara vår tränade modell i en fil eller en databas\n",
    "* Gör prediktioner (t.ex. vanlig linjär regression y=kx+m)\n",
    "* Förbättra prediktionerna (högt r-värde)\n",
    "\n"
   ]
  },
  {
   "cell_type": "code",
   "execution_count": null,
   "id": "b9188a3e",
   "metadata": {},
   "outputs": [],
   "source": []
  }
 ],
 "metadata": {
  "kernelspec": {
   "display_name": "Python 3 (ipykernel)",
   "language": "python",
   "name": "python3"
  },
  "language_info": {
   "codemirror_mode": {
    "name": "ipython",
    "version": 3
   },
   "file_extension": ".py",
   "mimetype": "text/x-python",
   "name": "python",
   "nbconvert_exporter": "python",
   "pygments_lexer": "ipython3",
   "version": "3.9.13"
  }
 },
 "nbformat": 4,
 "nbformat_minor": 5
}
